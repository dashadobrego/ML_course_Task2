{
 "cells": [
  {
   "cell_type": "markdown",
   "metadata": {},
   "source": [
    "## Linear regression analysis"
   ]
  },
  {
   "cell_type": "markdown",
   "metadata": {},
   "source": [
    "Students\n",
    "- Bruchkus Sergei \n",
    "- Dobrego Daria \n",
    "- Nikiforova Veronika \n",
    "- Prorok Ilya"
   ]
  },
  {
   "cell_type": "markdown",
   "metadata": {},
   "source": [
    "## Setup of the problem\n",
    "\n",
    "In this task you are asked to run a pair-wise linear regression analysis.\n",
    "The attached file RD_Sales.xlsx contains the data on research and development expenditures (rd, dependent variable) and sales (sales, independent variable) for 18 industry groupings (variable industry) in the United States (all figures are in millions of dollars).\n",
    "\n",
    "Use the 5% level of significance for statistical inference."
   ]
  },
  {
   "cell_type": "code",
   "execution_count": 8,
   "metadata": {},
   "outputs": [],
   "source": [
    "# load the necessary libraries\n",
    "import numpy as np\n",
    "import pandas as pd\n",
    "import matplotlib.pyplot as plt\n",
    "# packages for statistical analysis\n",
    "import scipy.stats as stats\n",
    "import statsmodels.api as sm\n",
    "import statsmodels.stats.api as sms\n",
    "from statsmodels.graphics.gofplots import qqplot\n",
    "import statsmodels.api as sm \n",
    "import statsmodels.stats.api as sms \n",
    "import statsmodels.tsa.api as smt\n",
    "from statsmodels.graphics.gofplots import qqplot\n",
    "from statsmodels.stats.outliers_influence import variance_inflation_factor \n",
    "from statsmodels.stats.outliers_influence import reset_ramsey"
   ]
  },
  {
   "cell_type": "code",
   "execution_count": 10,
   "metadata": {},
   "outputs": [],
   "source": [
    "# import the data here\n",
    "df_sales = pd.read_excel('RD_Sales.xlsx', 'data', index_col=None, na_values=['NA'])"
   ]
  },
  {
   "cell_type": "markdown",
   "metadata": {},
   "source": [
    "## Task 1.\n",
    "Run a descriptive analysis of the dataset and give comments."
   ]
  },
  {
   "cell_type": "code",
   "execution_count": 11,
   "metadata": {},
   "outputs": [
    {
     "data": {
      "text/html": [
       "<div>\n",
       "<style scoped>\n",
       "    .dataframe tbody tr th:only-of-type {\n",
       "        vertical-align: middle;\n",
       "    }\n",
       "\n",
       "    .dataframe tbody tr th {\n",
       "        vertical-align: top;\n",
       "    }\n",
       "\n",
       "    .dataframe thead th {\n",
       "        text-align: right;\n",
       "    }\n",
       "</style>\n",
       "<table border=\"1\" class=\"dataframe\">\n",
       "  <thead>\n",
       "    <tr style=\"text-align: right;\">\n",
       "      <th></th>\n",
       "      <th>rd</th>\n",
       "      <th>sales</th>\n",
       "    </tr>\n",
       "  </thead>\n",
       "  <tbody>\n",
       "    <tr>\n",
       "      <th>count</th>\n",
       "      <td>18.0</td>\n",
       "      <td>18.0</td>\n",
       "    </tr>\n",
       "    <tr>\n",
       "      <th>mean</th>\n",
       "      <td>3057.0</td>\n",
       "      <td>89775.0</td>\n",
       "    </tr>\n",
       "    <tr>\n",
       "      <th>std</th>\n",
       "      <td>3706.0</td>\n",
       "      <td>80345.0</td>\n",
       "    </tr>\n",
       "    <tr>\n",
       "      <th>min</th>\n",
       "      <td>62.0</td>\n",
       "      <td>6375.0</td>\n",
       "    </tr>\n",
       "    <tr>\n",
       "      <th>25%</th>\n",
       "      <td>440.0</td>\n",
       "      <td>27908.0</td>\n",
       "    </tr>\n",
       "    <tr>\n",
       "      <th>50%</th>\n",
       "      <td>1608.0</td>\n",
       "      <td>75657.0</td>\n",
       "    </tr>\n",
       "    <tr>\n",
       "      <th>75%</th>\n",
       "      <td>4320.0</td>\n",
       "      <td>120772.0</td>\n",
       "    </tr>\n",
       "    <tr>\n",
       "      <th>max</th>\n",
       "      <td>13211.0</td>\n",
       "      <td>293543.0</td>\n",
       "    </tr>\n",
       "  </tbody>\n",
       "</table>\n",
       "</div>"
      ],
      "text/plain": [
       "            rd     sales\n",
       "count     18.0      18.0\n",
       "mean    3057.0   89775.0\n",
       "std     3706.0   80345.0\n",
       "min       62.0    6375.0\n",
       "25%      440.0   27908.0\n",
       "50%     1608.0   75657.0\n",
       "75%     4320.0  120772.0\n",
       "max    13211.0  293543.0"
      ]
     },
     "execution_count": 11,
     "metadata": {},
     "output_type": "execute_result"
    }
   ],
   "source": [
    "# provide a summary on the data\n",
    "df_sales.describe().round(0)"
   ]
  },
  {
   "cell_type": "code",
   "execution_count": 13,
   "metadata": {},
   "outputs": [
    {
     "name": "stdout",
     "output_type": "stream",
     "text": [
      "Pearson's correlation =  0.692\n",
      "Pearson's p-value =  0.001\n"
     ]
    }
   ],
   "source": [
    "# run a pair-wise correlation analysis\n",
    "rd = df_sales['rd']\n",
    "sales = df_sales['sales']\n",
    "coefPears, pvPears=stats.pearsonr(rd, sales) #the formula for a Pearson's correlation coefficient\n",
    "print(\"Pearson's correlation = \", round(coefPears,3)) \n",
    "print(\"Pearson's p-value = \", round(pvPears,3))"
   ]
  },
  {
   "cell_type": "code",
   "execution_count": 17,
   "metadata": {},
   "outputs": [
    {
     "data": {
      "image/png": "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\n",
      "text/plain": [
       "<Figure size 432x288 with 1 Axes>"
      ]
     },
     "metadata": {
      "needs_background": "light"
     },
     "output_type": "display_data"
    }
   ],
   "source": [
    "# construct a scatter plot\n",
    "plt.scatter(sales, rd)\n",
    "plt.xlabel(\"Total sales, $mln\")\n",
    "plt.ylabel(\"R&D expenditures, $mln\")\n",
    "plt.title(\"R&D expenditures and total sales of the industies in 1988\") \n",
    "plt.grid()\n",
    "#regression part\n",
    "slopeY,interceptY, _, _, _ = stats.linregress(sales,rd)\n",
    "lineY = slopeY*sales+interceptY\n",
    "plt.plot(sales, lineY, 'r', label='rd = {:.2f} + {:.2f}*sales'.format(interceptY,slopeY))\n",
    "#end\n",
    "plt.legend() \n",
    "plt.show()"
   ]
  },
  {
   "cell_type": "markdown",
   "metadata": {},
   "source": [
    "Comments\n",
    "\n",
    "- We have cross-sectional data\n",
    "- There is no missing values\n",
    "- Small size of samples\n",
    "- Big range of both samples\n",
    "- Correlation coefficient is statistically significant (statistically different from 0, greater than 0)"
   ]
  },
  {
   "cell_type": "markdown",
   "metadata": {},
   "source": [
    "## Task 2.\n",
    "Estimate the following linear pair-wise regression \n",
    "\n",
    "Model 1: $$ RDi = beta0+beta1*Salesi+ui$$\n",
    "\n",
    "and run the necessary tests. Give comments."
   ]
  },
  {
   "cell_type": "code",
   "execution_count": 19,
   "metadata": {},
   "outputs": [
    {
     "name": "stderr",
     "output_type": "stream",
     "text": [
      "/Users/dashadobrego/anaconda3/lib/python3.7/site-packages/numpy/core/fromnumeric.py:2389: FutureWarning: Method .ptp is deprecated and will be removed in a future version. Use numpy.ptp instead.\n",
      "  return ptp(axis=axis, out=out, **kwargs)\n",
      "/Users/dashadobrego/anaconda3/lib/python3.7/site-packages/scipy/stats/stats.py:1450: UserWarning: kurtosistest only valid for n>=20 ... continuing anyway, n=18\n",
      "  \"anyway, n=%i\" % int(n))\n"
     ]
    },
    {
     "data": {
      "text/html": [
       "<table class=\"simpletable\">\n",
       "<caption>OLS Regression Results</caption>\n",
       "<tr>\n",
       "  <th>Dep. Variable:</th>           <td>rd</td>        <th>  R-squared:         </th> <td>   0.478</td>\n",
       "</tr>\n",
       "<tr>\n",
       "  <th>Model:</th>                   <td>OLS</td>       <th>  Adj. R-squared:    </th> <td>   0.446</td>\n",
       "</tr>\n",
       "<tr>\n",
       "  <th>Method:</th>             <td>Least Squares</td>  <th>  F-statistic:       </th> <td>   14.67</td>\n",
       "</tr>\n",
       "<tr>\n",
       "  <th>Date:</th>             <td>Wed, 12 Feb 2020</td> <th>  Prob (F-statistic):</th>  <td>0.00148</td>\n",
       "</tr>\n",
       "<tr>\n",
       "  <th>Time:</th>                 <td>00:46:14</td>     <th>  Log-Likelihood:    </th> <td> -167.09</td>\n",
       "</tr>\n",
       "<tr>\n",
       "  <th>No. Observations:</th>      <td>    18</td>      <th>  AIC:               </th> <td>   338.2</td>\n",
       "</tr>\n",
       "<tr>\n",
       "  <th>Df Residuals:</th>          <td>    16</td>      <th>  BIC:               </th> <td>   340.0</td>\n",
       "</tr>\n",
       "<tr>\n",
       "  <th>Df Model:</th>              <td>     1</td>      <th>                     </th>     <td> </td>   \n",
       "</tr>\n",
       "<tr>\n",
       "  <th>Covariance Type:</th>      <td>nonrobust</td>    <th>                     </th>     <td> </td>   \n",
       "</tr>\n",
       "</table>\n",
       "<table class=\"simpletable\">\n",
       "<tr>\n",
       "    <td></td>       <th>coef</th>     <th>std err</th>      <th>t</th>      <th>P>|t|</th>  <th>[0.025</th>    <th>0.975]</th>  \n",
       "</tr>\n",
       "<tr>\n",
       "  <th>const</th> <td>  192.9931</td> <td>  990.986</td> <td>    0.195</td> <td> 0.848</td> <td>-1907.803</td> <td> 2293.789</td>\n",
       "</tr>\n",
       "<tr>\n",
       "  <th>sales</th> <td>    0.0319</td> <td>    0.008</td> <td>    3.830</td> <td> 0.001</td> <td>    0.014</td> <td>    0.050</td>\n",
       "</tr>\n",
       "</table>\n",
       "<table class=\"simpletable\">\n",
       "<tr>\n",
       "  <th>Omnibus:</th>       <td> 8.587</td> <th>  Durbin-Watson:     </th> <td>   3.016</td>\n",
       "</tr>\n",
       "<tr>\n",
       "  <th>Prob(Omnibus):</th> <td> 0.014</td> <th>  Jarque-Bera (JB):  </th> <td>   6.571</td>\n",
       "</tr>\n",
       "<tr>\n",
       "  <th>Skew:</th>          <td> 0.823</td> <th>  Prob(JB):          </th> <td>  0.0374</td>\n",
       "</tr>\n",
       "<tr>\n",
       "  <th>Kurtosis:</th>      <td> 5.460</td> <th>  Cond. No.          </th> <td>1.81e+05</td>\n",
       "</tr>\n",
       "</table><br/><br/>Warnings:<br/>[1] Standard Errors assume that the covariance matrix of the errors is correctly specified.<br/>[2] The condition number is large, 1.81e+05. This might indicate that there are<br/>strong multicollinearity or other numerical problems."
      ],
      "text/plain": [
       "<class 'statsmodels.iolib.summary.Summary'>\n",
       "\"\"\"\n",
       "                            OLS Regression Results                            \n",
       "==============================================================================\n",
       "Dep. Variable:                     rd   R-squared:                       0.478\n",
       "Model:                            OLS   Adj. R-squared:                  0.446\n",
       "Method:                 Least Squares   F-statistic:                     14.67\n",
       "Date:                Wed, 12 Feb 2020   Prob (F-statistic):            0.00148\n",
       "Time:                        00:46:14   Log-Likelihood:                -167.09\n",
       "No. Observations:                  18   AIC:                             338.2\n",
       "Df Residuals:                      16   BIC:                             340.0\n",
       "Df Model:                           1                                         \n",
       "Covariance Type:            nonrobust                                         \n",
       "==============================================================================\n",
       "                 coef    std err          t      P>|t|      [0.025      0.975]\n",
       "------------------------------------------------------------------------------\n",
       "const        192.9931    990.986      0.195      0.848   -1907.803    2293.789\n",
       "sales          0.0319      0.008      3.830      0.001       0.014       0.050\n",
       "==============================================================================\n",
       "Omnibus:                        8.587   Durbin-Watson:                   3.016\n",
       "Prob(Omnibus):                  0.014   Jarque-Bera (JB):                6.571\n",
       "Skew:                           0.823   Prob(JB):                       0.0374\n",
       "Kurtosis:                       5.460   Cond. No.                     1.81e+05\n",
       "==============================================================================\n",
       "\n",
       "Warnings:\n",
       "[1] Standard Errors assume that the covariance matrix of the errors is correctly specified.\n",
       "[2] The condition number is large, 1.81e+05. This might indicate that there are\n",
       "strong multicollinearity or other numerical problems.\n",
       "\"\"\""
      ]
     },
     "execution_count": 19,
     "metadata": {},
     "output_type": "execute_result"
    }
   ],
   "source": [
    "# provide estimation code here\n",
    "X = sm.add_constant(sales) \n",
    "model1 = sm.OLS(rd, X).fit()\n",
    "# Print out the statistics\n",
    "model1.summary()"
   ]
  },
  {
   "cell_type": "code",
   "execution_count": 25,
   "metadata": {},
   "outputs": [
    {
     "name": "stdout",
     "output_type": "stream",
     "text": [
      "\n",
      " --- The Shapiro-Wilk normality test ---\n",
      "                         value\n",
      "chi^2 test statistic  0.863718\n",
      "chi^2 test p-value    0.014043\n"
     ]
    }
   ],
   "source": [
    "# provide tests here\n",
    "# store model residuals \n",
    "resids1 = model1.resid\n",
    "SW_test = pd.DataFrame(stats.shapiro(resids1), columns=['value'], index=['chi^2 test statistic', 'chi^2 test p-value'])\n",
    "print('\\n --- The Shapiro-Wilk normality test ---') \n",
    "print(SW_test)"
   ]
  },
  {
   "cell_type": "code",
   "execution_count": 26,
   "metadata": {},
   "outputs": [
    {
     "data": {
      "image/png": "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\n",
      "text/plain": [
       "<Figure size 432x288 with 1 Axes>"
      ]
     },
     "execution_count": 26,
     "metadata": {},
     "output_type": "execute_result"
    },
    {
     "data": {
      "image/png": "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\n",
      "text/plain": [
       "<Figure size 432x288 with 1 Axes>"
      ]
     },
     "metadata": {
      "needs_background": "light"
     },
     "output_type": "display_data"
    }
   ],
   "source": [
    " # Visual Normality Test\n",
    "qqplot(resids1, line='s')"
   ]
  },
  {
   "cell_type": "code",
   "execution_count": 30,
   "metadata": {},
   "outputs": [
    {
     "name": "stdout",
     "output_type": "stream",
     "text": [
      "\n",
      " --- The Breusch-Pagan test ---\n",
      "                         value\n",
      "chi^2 test statistic  3.995197\n",
      "chi^2 test p-value    0.045630\n",
      "F-test statistic      4.564374\n",
      "F-test p-value        0.048439\n"
     ]
    }
   ],
   "source": [
    "# The Breusch-Pagan heteroskedasticity test\n",
    "bp_test = pd.DataFrame(sms.het_breuschpagan(resids1, model1.model.exog), columns=['value'], \n",
    "                       index=['chi^2 test statistic', 'chi^2 test p-value', 'F-test statistic', 'F-test p-value'])\n",
    "print('\\n --- The Breusch-Pagan test ---') \n",
    "print(bp_test)"
   ]
  },
  {
   "cell_type": "markdown",
   "metadata": {},
   "source": [
    "Comments\n",
    "\n",
    "- We expect b1 to be positive as we assume that the higher the sales the bigger the R&D expenditures\n",
    "- Estimated model has relatively low explanatory power (R^2=0,478)\n",
    "- Constant term is statistically insignificant\n",
    "- b1 coefficient is statistically significant (statistically diffent from 0)\n",
    "- The assumption about positiveness of a slope was approved\n",
    "- According to JB test and SW test disturbance terms are distributed not normally (however, QQplot gives misleading results)\n",
    "- BP test showed the presence of heteroskedastisity problem (veriances of dist terms are not constant)"
   ]
  },
  {
   "cell_type": "markdown",
   "metadata": {},
   "source": [
    "## Task 3.\n",
    "\n",
    "Estimate the following log-linear pair-wise regression \n",
    "\n",
    "Model 2: $log(RD)i = γ0 + γ1 ⋅ log(Sales)i + εi$\n",
    "\n",
    "\n",
    "and run the necessary tests. Give comments."
   ]
  },
  {
   "cell_type": "code",
   "execution_count": 32,
   "metadata": {},
   "outputs": [
    {
     "data": {
      "text/html": [
       "<table class=\"simpletable\">\n",
       "<caption>OLS Regression Results</caption>\n",
       "<tr>\n",
       "  <th>Dep. Variable:</th>          <td>logrd</td>      <th>  R-squared:         </th> <td>   0.795</td>\n",
       "</tr>\n",
       "<tr>\n",
       "  <th>Model:</th>                   <td>OLS</td>       <th>  Adj. R-squared:    </th> <td>   0.782</td>\n",
       "</tr>\n",
       "<tr>\n",
       "  <th>Method:</th>             <td>Least Squares</td>  <th>  F-statistic:       </th> <td>   61.92</td>\n",
       "</tr>\n",
       "<tr>\n",
       "  <th>Date:</th>             <td>Wed, 12 Feb 2020</td> <th>  Prob (F-statistic):</th> <td>6.87e-07</td>\n",
       "</tr>\n",
       "<tr>\n",
       "  <th>Time:</th>                 <td>00:51:12</td>     <th>  Log-Likelihood:    </th> <td> -19.308</td>\n",
       "</tr>\n",
       "<tr>\n",
       "  <th>No. Observations:</th>      <td>    18</td>      <th>  AIC:               </th> <td>   42.62</td>\n",
       "</tr>\n",
       "<tr>\n",
       "  <th>Df Residuals:</th>          <td>    16</td>      <th>  BIC:               </th> <td>   44.40</td>\n",
       "</tr>\n",
       "<tr>\n",
       "  <th>Df Model:</th>              <td>     1</td>      <th>                     </th>     <td> </td>   \n",
       "</tr>\n",
       "<tr>\n",
       "  <th>Covariance Type:</th>      <td>nonrobust</td>    <th>                     </th>     <td> </td>   \n",
       "</tr>\n",
       "</table>\n",
       "<table class=\"simpletable\">\n",
       "<tr>\n",
       "      <td></td>        <th>coef</th>     <th>std err</th>      <th>t</th>      <th>P>|t|</th>  <th>[0.025</th>    <th>0.975]</th>  \n",
       "</tr>\n",
       "<tr>\n",
       "  <th>const</th>    <td>   -7.3647</td> <td>    1.848</td> <td>   -3.985</td> <td> 0.001</td> <td>  -11.282</td> <td>   -3.447</td>\n",
       "</tr>\n",
       "<tr>\n",
       "  <th>logsales</th> <td>    1.3222</td> <td>    0.168</td> <td>    7.869</td> <td> 0.000</td> <td>    0.966</td> <td>    1.678</td>\n",
       "</tr>\n",
       "</table>\n",
       "<table class=\"simpletable\">\n",
       "<tr>\n",
       "  <th>Omnibus:</th>       <td> 0.315</td> <th>  Durbin-Watson:     </th> <td>   2.399</td>\n",
       "</tr>\n",
       "<tr>\n",
       "  <th>Prob(Omnibus):</th> <td> 0.854</td> <th>  Jarque-Bera (JB):  </th> <td>   0.355</td>\n",
       "</tr>\n",
       "<tr>\n",
       "  <th>Skew:</th>          <td>-0.260</td> <th>  Prob(JB):          </th> <td>   0.837</td>\n",
       "</tr>\n",
       "<tr>\n",
       "  <th>Kurtosis:</th>      <td> 2.550</td> <th>  Cond. No.          </th> <td>    116.</td>\n",
       "</tr>\n",
       "</table><br/><br/>Warnings:<br/>[1] Standard Errors assume that the covariance matrix of the errors is correctly specified."
      ],
      "text/plain": [
       "<class 'statsmodels.iolib.summary.Summary'>\n",
       "\"\"\"\n",
       "                            OLS Regression Results                            \n",
       "==============================================================================\n",
       "Dep. Variable:                  logrd   R-squared:                       0.795\n",
       "Model:                            OLS   Adj. R-squared:                  0.782\n",
       "Method:                 Least Squares   F-statistic:                     61.92\n",
       "Date:                Wed, 12 Feb 2020   Prob (F-statistic):           6.87e-07\n",
       "Time:                        00:51:12   Log-Likelihood:                -19.308\n",
       "No. Observations:                  18   AIC:                             42.62\n",
       "Df Residuals:                      16   BIC:                             44.40\n",
       "Df Model:                           1                                         \n",
       "Covariance Type:            nonrobust                                         \n",
       "==============================================================================\n",
       "                 coef    std err          t      P>|t|      [0.025      0.975]\n",
       "------------------------------------------------------------------------------\n",
       "const         -7.3647      1.848     -3.985      0.001     -11.282      -3.447\n",
       "logsales       1.3222      0.168      7.869      0.000       0.966       1.678\n",
       "==============================================================================\n",
       "Omnibus:                        0.315   Durbin-Watson:                   2.399\n",
       "Prob(Omnibus):                  0.854   Jarque-Bera (JB):                0.355\n",
       "Skew:                          -0.260   Prob(JB):                        0.837\n",
       "Kurtosis:                       2.550   Cond. No.                         116.\n",
       "==============================================================================\n",
       "\n",
       "Warnings:\n",
       "[1] Standard Errors assume that the covariance matrix of the errors is correctly specified.\n",
       "\"\"\""
      ]
     },
     "execution_count": 32,
     "metadata": {},
     "output_type": "execute_result"
    }
   ],
   "source": [
    "# provide estimation code here\n",
    "# take log of sales\n",
    "logrd = np.log(df_sales[['rd']]) \n",
    "logrd.columns = ['logrd']\n",
    "# transform the regressors\n",
    "XXL = np.log(df_sales[['sales']]) \n",
    "XXL.columns = ['logsales']\n",
    "# add a constant term as a regressor\n",
    "XXL = sm.add_constant(XXL) # Note the argument order\n",
    "model2 = sm.OLS(logrd, XXL).fit()\n",
    "# Print out the statistics\n",
    "model2.summary()"
   ]
  },
  {
   "cell_type": "code",
   "execution_count": 35,
   "metadata": {},
   "outputs": [
    {
     "name": "stdout",
     "output_type": "stream",
     "text": [
      "\n",
      " --- The Shapiro-Wilk normality test ---\n",
      "                         value\n",
      "chi^2 test statistic  0.975880\n",
      "chi^2 test p-value    0.897962\n"
     ]
    }
   ],
   "source": [
    "# provide tests here\n",
    "# store model residuals \n",
    "resids2 = model2.resid\n",
    "SW_test = pd.DataFrame(stats.shapiro(resids2), columns=['value'],index=['chi^2 test statistic', 'chi^2 test p-value'])\n",
    "\n",
    "print('\\n --- The Shapiro-Wilk normality test ---') \n",
    "print(SW_test)"
   ]
  },
  {
   "cell_type": "code",
   "execution_count": 36,
   "metadata": {},
   "outputs": [
    {
     "data": {
      "image/png": "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\n",
      "text/plain": [
       "<Figure size 432x288 with 1 Axes>"
      ]
     },
     "execution_count": 36,
     "metadata": {},
     "output_type": "execute_result"
    },
    {
     "data": {
      "image/png": "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\n",
      "text/plain": [
       "<Figure size 432x288 with 1 Axes>"
      ]
     },
     "metadata": {
      "needs_background": "light"
     },
     "output_type": "display_data"
    }
   ],
   "source": [
    "# Visual Normality Test\n",
    "qqplot(resids2, line='s')"
   ]
  },
  {
   "cell_type": "code",
   "execution_count": 39,
   "metadata": {},
   "outputs": [
    {
     "name": "stdout",
     "output_type": "stream",
     "text": [
      "\n",
      " --- The Breusch-Pagan test ---\n",
      "                         value\n",
      "chi^2 test statistic  2.549180\n",
      "chi^2 test p-value    0.110352\n",
      "F-test statistic      2.639787\n",
      "F-test p-value        0.123751\n"
     ]
    }
   ],
   "source": [
    "# The Breusch-Pagan heteroskedasticity test\n",
    "bp_test = pd.DataFrame(sms.het_breuschpagan(resids2, model2.model.exog), columns=['value'],\n",
    "                       index=['chi^2 test statistic', 'chi^2 test p-value', 'F-test statistic', 'F-test p-value'])\n",
    "print('\\n --- The Breusch-Pagan test ---') \n",
    "print(bp_test)"
   ]
  },
  {
   "cell_type": "markdown",
   "metadata": {},
   "source": [
    "Comments\n",
    "\n",
    "- The second model has greater explanatory power (R^2=0,795)\n",
    "- Constant term is statistically significant\n",
    "- b1 coefficient is statistically significant (statistically diffent from 0)\n",
    "- The assumption about positiveness of a slope was approved\n",
    "- According to JB test, SW test and QQplot disturbance terms are distributed normally BP test showed the homoskedastisity of disturbances"
   ]
  },
  {
   "cell_type": "code",
   "execution_count": null,
   "metadata": {},
   "outputs": [],
   "source": []
  }
 ],
 "metadata": {
  "kernelspec": {
   "display_name": "Python 3",
   "language": "python",
   "name": "python3"
  },
  "language_info": {
   "codemirror_mode": {
    "name": "ipython",
    "version": 3
   },
   "file_extension": ".py",
   "mimetype": "text/x-python",
   "name": "python",
   "nbconvert_exporter": "python",
   "pygments_lexer": "ipython3",
   "version": "3.7.3"
  }
 },
 "nbformat": 4,
 "nbformat_minor": 2
}
,
